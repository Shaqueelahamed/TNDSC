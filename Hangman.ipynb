{
  "nbformat": 4,
  "nbformat_minor": 0,
  "metadata": {
    "colab": {
      "provenance": []
    },
    "kernelspec": {
      "name": "python3",
      "display_name": "Python 3"
    },
    "language_info": {
      "name": "python"
    }
  },
  "cells": [
    {
      "cell_type": "code",
      "execution_count": 1,
      "metadata": {
        "colab": {
          "base_uri": "https://localhost:8080/"
        },
        "id": "_YdnKsYCwADI",
        "outputId": "ff4fa99b-3c5b-45b6-c63e-c850615ad002"
      },
      "outputs": [
        {
          "output_type": "stream",
          "name": "stdout",
          "text": [
            "Welcome to Hangman!\n",
            "\n",
            "Attempts left: 6\n",
            "Word: ______\n",
            "Guess a letter: l\n",
            "Incorrect guess!\n",
            "\n",
            "Attempts left: 5\n",
            "Word: ______\n",
            "Guess a letter: p\n",
            "\n",
            "Attempts left: 5\n",
            "Word: p_____\n",
            "Guess a letter: t\n",
            "\n",
            "Attempts left: 5\n",
            "Word: p_t___\n",
            "Guess a letter: h\n",
            "\n",
            "Attempts left: 5\n",
            "Word: p_th__\n",
            "Guess a letter: n\n",
            "\n",
            "Attempts left: 5\n",
            "Word: p_th_n\n",
            "Guess a letter: o\n",
            "\n",
            "Attempts left: 5\n",
            "Word: p_thon\n",
            "Guess a letter: a\n",
            "Incorrect guess!\n",
            "\n",
            "Attempts left: 4\n",
            "Word: p_thon\n",
            "Guess a letter: w\n",
            "Incorrect guess!\n",
            "\n",
            "Attempts left: 3\n",
            "Word: p_thon\n",
            "Guess a letter: e\n",
            "Incorrect guess!\n",
            "\n",
            "Attempts left: 2\n",
            "Word: p_thon\n",
            "Guess a letter: r\n",
            "Incorrect guess!\n",
            "\n",
            "Attempts left: 1\n",
            "Word: p_thon\n",
            "Guess a letter: y\n",
            "\n",
            "Congratulations! You've guessed the word: python\n"
          ]
        }
      ],
      "source": [
        "import random\n",
        "\n",
        "# List of words for the game\n",
        "words = ['python', 'hangman', 'computer', 'keyboard', 'mouse', 'monitor']\n",
        "\n",
        "def choose_word(words):\n",
        "    \"\"\"Choose a random word from the list\"\"\"\n",
        "    return random.choice(words)\n",
        "\n",
        "def display_word(word, guessed_letters):\n",
        "    \"\"\"Display the word with guessed letters filled in\"\"\"\n",
        "    return ''.join(letter if letter in guessed_letters else '_' for letter in word)\n",
        "\n",
        "def hangman():\n",
        "    \"\"\"Main function to play the game\"\"\"\n",
        "    print(\"Welcome to Hangman!\")\n",
        "    word = choose_word(words)\n",
        "    guessed_letters = set()\n",
        "    attempts = 6\n",
        "\n",
        "    while attempts > 0:\n",
        "        print(\"\\nAttempts left:\", attempts)\n",
        "        print(\"Word:\", display_word(word, guessed_letters))\n",
        "\n",
        "        guess = input(\"Guess a letter: \").lower()\n",
        "\n",
        "        if len(guess) != 1 or not guess.isalpha():\n",
        "            print(\"Please enter a single alphabetic character.\")\n",
        "            continue\n",
        "\n",
        "        if guess in guessed_letters:\n",
        "            print(\"You've already guessed that letter.\")\n",
        "            continue\n",
        "\n",
        "        guessed_letters.add(guess)\n",
        "\n",
        "        if guess not in word:\n",
        "            attempts -= 1\n",
        "            print(\"Incorrect guess!\")\n",
        "\n",
        "        if '_' not in display_word(word, guessed_letters):\n",
        "            print(\"\\nCongratulations! You've guessed the word:\", word)\n",
        "            break\n",
        "\n",
        "    if attempts == 0:\n",
        "        print(\"\\nSorry, you've run out of attempts. The word was:\", word)\n",
        "\n",
        "hangman()\n"
      ]
    }
  ]
}